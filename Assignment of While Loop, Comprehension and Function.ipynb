{
 "cells": [
  {
   "cell_type": "markdown",
   "id": "8909ade4",
   "metadata": {},
   "source": [
    "# Q(1). Which keyword is used to create a function? Create a function to return a list of odd numbers in the range of 1 to 25."
   ]
  },
  {
   "cell_type": "markdown",
   "id": "790e0b72",
   "metadata": {},
   "source": [
    "Ans.:- 'def' keyword is used to create a function."
   ]
  },
  {
   "cell_type": "code",
   "execution_count": 1,
   "id": "229483c4",
   "metadata": {},
   "outputs": [
    {
     "data": {
      "text/plain": [
       "[1, 3, 5, 7, 9, 11, 13, 15, 17, 19, 21, 23, 25]"
      ]
     },
     "execution_count": 1,
     "metadata": {},
     "output_type": "execute_result"
    }
   ],
   "source": [
    "# Here we have defined the function using the 'def' keyword followed by function name and parentheses.\n",
    "def odd_numbers():\n",
    "    \n",
    "    # We have created an empty list to store odd numbers.\n",
    "    l1 = []\n",
    "    \n",
    "    # Here We have used for loop to iterate through numbers in the range from 1 to 25 i.e, including 25.  \n",
    "    for i in range(1,26):\n",
    "        \n",
    "        # Here We are checking that number is odd or not.\n",
    "        if i%2 != 0:\n",
    "            \n",
    "            # If number is odd then We will add it to the list of l1.\n",
    "            l1.append(i)\n",
    "            \n",
    "    # After the loop gets completed, it will return the list of l1 i.e, odd numbers.\n",
    "    return l1\n",
    "\n",
    "odd_numbers()"
   ]
  },
  {
   "cell_type": "markdown",
   "id": "f6f1e17a",
   "metadata": {},
   "source": [
    "# Q(2). Why *args and **kwargs is used in some functions? Create a function each for *args and **kwargs to demonstrate their use."
   ]
  },
  {
   "cell_type": "markdown",
   "id": "117ce5d6",
   "metadata": {},
   "source": [
    "Ans.:- "
   ]
  },
  {
   "cell_type": "markdown",
   "id": "f2434801",
   "metadata": {},
   "source": [
    "# (2.1) *args :"
   ]
  },
  {
   "cell_type": "markdown",
   "id": "2c83e1fe",
   "metadata": {},
   "source": [
    "- We use \"*args\" inside a function. Here \"*\" means we can pass 'n' number of arguments inside a function. Whichever data we will pass inside function, it will keep it in the form of tuple. "
   ]
  },
  {
   "cell_type": "markdown",
   "id": "0bb06571",
   "metadata": {},
   "source": [
    "# Example of *args :-"
   ]
  },
  {
   "cell_type": "code",
   "execution_count": 2,
   "id": "c607ea3e",
   "metadata": {},
   "outputs": [],
   "source": [
    "def test1(*args):\n",
    "    return args"
   ]
  },
  {
   "cell_type": "code",
   "execution_count": 3,
   "id": "44bdf882",
   "metadata": {},
   "outputs": [
    {
     "data": {
      "text/plain": [
       "(1, 2, 3, 4)"
      ]
     },
     "execution_count": 3,
     "metadata": {},
     "output_type": "execute_result"
    }
   ],
   "source": [
    "test1(1,2,3,4)"
   ]
  },
  {
   "cell_type": "code",
   "execution_count": 4,
   "id": "4ce1aeb2",
   "metadata": {},
   "outputs": [],
   "source": [
    "def add(x,y):\n",
    "    return x + y"
   ]
  },
  {
   "cell_type": "code",
   "execution_count": 5,
   "id": "e229239f",
   "metadata": {},
   "outputs": [
    {
     "data": {
      "text/plain": [
       "25"
      ]
     },
     "execution_count": 5,
     "metadata": {},
     "output_type": "execute_result"
    }
   ],
   "source": [
    "add(15,10)"
   ]
  },
  {
   "cell_type": "markdown",
   "id": "af7f448a",
   "metadata": {},
   "source": [
    "# (2.2) **kwargs :"
   ]
  },
  {
   "cell_type": "markdown",
   "id": "a77fb3f8",
   "metadata": {},
   "source": [
    "- We use keyword arguments to get the data in key-value forms. If we want data in dictionary format or key-value pair, then we will use double asterick(\" ** \")."
   ]
  },
  {
   "cell_type": "markdown",
   "id": "67a76054",
   "metadata": {},
   "source": [
    "# Example of **kwargs :-"
   ]
  },
  {
   "cell_type": "code",
   "execution_count": 6,
   "id": "9414ebe3",
   "metadata": {},
   "outputs": [],
   "source": [
    "def test2(**kwargs):\n",
    "    return kwargs"
   ]
  },
  {
   "cell_type": "code",
   "execution_count": 7,
   "id": "426ff71d",
   "metadata": {},
   "outputs": [
    {
     "data": {
      "text/plain": [
       "{'a': [1, 2, 3], 'b': 'Abhinav', 'c': 45.26}"
      ]
     },
     "execution_count": 7,
     "metadata": {},
     "output_type": "execute_result"
    }
   ],
   "source": [
    "test2(a=[1,2,3], b = \"Abhinav\", c = 45.26)"
   ]
  },
  {
   "cell_type": "markdown",
   "id": "a3a5d2c2",
   "metadata": {},
   "source": [
    "# Q(3). What is an iterator in python? Name the method used to initialize the iterator object and the method used for iteration.  Use these methods to print the first five elements of the given list [2, 4, 6, 8, 10, 12, 14,16, 18, 20]."
   ]
  },
  {
   "cell_type": "markdown",
   "id": "9be42e95",
   "metadata": {},
   "source": [
    "Ans.: - Iterator is such type of object or data, in which we will be able to fetch the data one by one using 'next()' function."
   ]
  },
  {
   "cell_type": "markdown",
   "id": "a61009e8",
   "metadata": {},
   "source": [
    "- Iter() method is used to initialize the iterator object."
   ]
  },
  {
   "cell_type": "markdown",
   "id": "05cdcfde",
   "metadata": {},
   "source": [
    "- next() method is used for iteration. The work of next() method is to take out the data next to pointer."
   ]
  },
  {
   "cell_type": "code",
   "execution_count": 8,
   "id": "6408c758",
   "metadata": {},
   "outputs": [
    {
     "name": "stdout",
     "output_type": "stream",
     "text": [
      "2\n",
      "4\n",
      "6\n",
      "8\n",
      "10\n"
     ]
    }
   ],
   "source": [
    "list1 = [2,4,6,8,10,12,14,16,18,20]\n",
    "\n",
    "# Here, We have created an iteratotor object for the list using iter() function.\n",
    "iterator = iter(list1)\n",
    "\n",
    "for i in range(5):\n",
    "    \n",
    "    print(next(iterator)) # Here we have used iterator to get the first five elements."
   ]
  },
  {
   "cell_type": "markdown",
   "id": "9e7366bc",
   "metadata": {},
   "source": [
    "# Q(4). What is a generator function in python? Why yield keyword is used? Give an example of a generator function."
   ]
  },
  {
   "cell_type": "markdown",
   "id": "2b1896f5",
   "metadata": {},
   "source": [
    "Ans.:- Generator function is like a special kind of function that allows us to get one item at time. Here, function will keep giving outcome one by one."
   ]
  },
  {
   "cell_type": "markdown",
   "id": "f368fd64",
   "metadata": {},
   "source": [
    "- The \"yield\" keyword in python is used to suspend the execution of a function and return a value. When the function is resumed, it will continue executing from the point where it was suspended."
   ]
  },
  {
   "cell_type": "markdown",
   "id": "bb11f1ed",
   "metadata": {},
   "source": [
    "# Example of generator function : "
   ]
  },
  {
   "cell_type": "markdown",
   "id": "82a34d87",
   "metadata": {},
   "source": [
    "# (4.1) To generate square of number :-"
   ]
  },
  {
   "cell_type": "code",
   "execution_count": 9,
   "id": "212cd667",
   "metadata": {},
   "outputs": [],
   "source": [
    "def square(n):\n",
    "    for i in range(n):\n",
    "        yield i**2"
   ]
  },
  {
   "cell_type": "code",
   "execution_count": 10,
   "id": "1efbab07",
   "metadata": {
    "scrolled": true
   },
   "outputs": [
    {
     "name": "stdout",
     "output_type": "stream",
     "text": [
      "0\n",
      "1\n",
      "4\n",
      "9\n",
      "16\n"
     ]
    }
   ],
   "source": [
    "for numbers in square(5):\n",
    "    print(numbers)"
   ]
  },
  {
   "cell_type": "markdown",
   "id": "aa27241d",
   "metadata": {},
   "source": [
    "# Q(5). Create a generator function for prime numbers less than 1000. Use the next() method to print the first 20 prime numbers."
   ]
  },
  {
   "cell_type": "markdown",
   "id": "c3fc799e",
   "metadata": {},
   "source": [
    "Ans.:- "
   ]
  },
  {
   "cell_type": "code",
   "execution_count": 11,
   "id": "ccb019aa",
   "metadata": {},
   "outputs": [
    {
     "name": "stdout",
     "output_type": "stream",
     "text": [
      "2\n",
      "3\n",
      "5\n",
      "7\n",
      "11\n",
      "13\n",
      "17\n",
      "19\n",
      "23\n",
      "29\n",
      "31\n",
      "37\n",
      "41\n",
      "43\n",
      "47\n",
      "53\n",
      "59\n",
      "61\n",
      "67\n",
      "71\n"
     ]
    }
   ],
   "source": [
    "def primes():\n",
    "    \n",
    "    # We are yielding the first prime number i.e, 2.\n",
    "    yield 2 \n",
    "    \n",
    "    # We have Initialized a list to store prime numbers which is starting from 2.\n",
    "    primes_list = [2]  \n",
    "    \n",
    "    # We are looping through numbers which is starting from 3 and ending at 999.\n",
    "    for i in range(3, 1000):  \n",
    "        \n",
    "        # We are assuming that the current number is prime.\n",
    "        is_prime = True  \n",
    "        \n",
    "        for prime in primes_list:\n",
    "            \n",
    "            # If the current number is divisible by any previously found prime number, it's not prime.\n",
    "            if i % prime == 0:  \n",
    "                is_prime = False\n",
    "                break\n",
    "                \n",
    "        # If the current number is prime, then we are adding it to the list and then yield it.        \n",
    "        if is_prime:  \n",
    "            primes_list.append(i)\n",
    "            yield i\n",
    "\n",
    "# we are creating a generator object for generating prime numbers.            \n",
    "prime_gen = primes()  \n",
    "\n",
    "# Here, We have crated a Loop to print the first 20 prime numbers.\n",
    "for i in range(20):\n",
    "    \n",
    "    # We are using the next() method on the generator to get the next prime number.\n",
    "    print(next(prime_gen))  "
   ]
  },
  {
   "cell_type": "markdown",
   "id": "b249866f",
   "metadata": {},
   "source": [
    "# Q(6). Write a python program to print the first 10 Fibonacci numbers using a while loop."
   ]
  },
  {
   "cell_type": "markdown",
   "id": "d63d7000",
   "metadata": {},
   "source": [
    "Ans.:-"
   ]
  },
  {
   "cell_type": "markdown",
   "id": "075ef3a5",
   "metadata": {},
   "source": [
    "# To generate first 10 fibonacci numbers using a while loop :-"
   ]
  },
  {
   "cell_type": "code",
   "execution_count": 12,
   "id": "81603b3d",
   "metadata": {},
   "outputs": [
    {
     "name": "stdout",
     "output_type": "stream",
     "text": [
      "0\n",
      "1\n",
      "1\n",
      "2\n",
      "3\n",
      "5\n",
      "8\n",
      "13\n",
      "21\n",
      "34\n"
     ]
    }
   ],
   "source": [
    "def fibonacci(n):\n",
    "    \n",
    "    # We are Initializing the first two Fibonacci numbers.\n",
    "    a, b = 0, 1  \n",
    "    \n",
    "    # Then, We are Initializing a counter to keep track of how many Fibonacci numbers has been printed.\n",
    "    count = 0 \n",
    "    \n",
    "    # We wil continue the loop until the desired number of Fibonacci numbers are printed.\n",
    "    while count < n:  \n",
    "        \n",
    "        # Here, We are printing the current Fibonacci number.\n",
    "        print(a)  \n",
    "        \n",
    "        # Now, We are updating the values of 'a' and 'b' for the next Fibonacci number.\n",
    "        a, b = b, a + b  \n",
    "        \n",
    "         # We are Incrementing the counter.\n",
    "        count += 1 \n",
    "\n",
    "# Finally, We are calling the function to print the first 10 Fibonacci numbers.\n",
    "fibonacci(10)  "
   ]
  },
  {
   "cell_type": "markdown",
   "id": "94a7bbd5",
   "metadata": {},
   "source": [
    "# Q(7). Write a List Comprehension to iterate through the given string: ‘pwskills’."
   ]
  },
  {
   "cell_type": "markdown",
   "id": "c1f55f17",
   "metadata": {},
   "source": [
    "# Expected output: ['p', 'w', 's', 'k', 'i', 'l', 'l', 's']"
   ]
  },
  {
   "cell_type": "markdown",
   "id": "bfb1441a",
   "metadata": {},
   "source": [
    "Ans.:-"
   ]
  },
  {
   "cell_type": "markdown",
   "id": "92273964",
   "metadata": {},
   "source": [
    "# List comprehension to iterate through the string :"
   ]
  },
  {
   "cell_type": "code",
   "execution_count": 13,
   "id": "005daa37",
   "metadata": {},
   "outputs": [],
   "source": [
    "str1 = 'pwskills'"
   ]
  },
  {
   "cell_type": "code",
   "execution_count": 14,
   "id": "1cc587cb",
   "metadata": {
    "scrolled": true
   },
   "outputs": [],
   "source": [
    "result = [char for char in str1] "
   ]
  },
  {
   "cell_type": "code",
   "execution_count": 15,
   "id": "5bdbe538",
   "metadata": {},
   "outputs": [
    {
     "name": "stdout",
     "output_type": "stream",
     "text": [
      "['p', 'w', 's', 'k', 'i', 'l', 'l', 's']\n"
     ]
    }
   ],
   "source": [
    "print(result)"
   ]
  },
  {
   "cell_type": "markdown",
   "id": "073f30b5",
   "metadata": {},
   "source": [
    "# Q(8). Write a python program to check whether a given number is Palindrome or not using a while loop."
   ]
  },
  {
   "cell_type": "markdown",
   "id": "d901d0b5",
   "metadata": {},
   "source": [
    "Ans.:-"
   ]
  },
  {
   "cell_type": "code",
   "execution_count": 16,
   "id": "e2a6494a",
   "metadata": {},
   "outputs": [
    {
     "name": "stdout",
     "output_type": "stream",
     "text": [
      "Please give a number : 151\n",
      "151 is a palindrome\n"
     ]
    }
   ],
   "source": [
    "n = int(input(\"Please give a number : \"))\n",
    "\n",
    "# Here, We are defining a function to reverse a number.\n",
    "def reverse(num):\n",
    "    if num < 10:\n",
    "        return num\n",
    "    else:\n",
    "        return int(str(num % 10) + str(reverse(num // 10)))\n",
    "\n",
    "# Then, We are defining a function to check if a number is a palindrome.\n",
    "def isPalindrome(num):\n",
    "    \n",
    "     # Now, We are Comparing the number with its reverse.\n",
    "    if num == reverse(num): \n",
    "        return 1\n",
    "    return 0\n",
    "\n",
    "# Using the \"isPalindrome\" function, We are checking that the given number is a palindrome or not.\n",
    "if isPalindrome(n) == 1:\n",
    "    print(n ,\"is a palindrome\")\n",
    "else:\n",
    "    print(n , \"is not a palindrome\")\n"
   ]
  },
  {
   "cell_type": "markdown",
   "id": "1da96e7e",
   "metadata": {},
   "source": [
    "# Q(9). Write a code to print odd numbers from 1 to 100 using list comprehension."
   ]
  },
  {
   "cell_type": "markdown",
   "id": "e0c88c27",
   "metadata": {},
   "source": [
    "# Note: Use a list comprehension to create a list from 1 to 100 and use another List comprehension to filter out odd numbers."
   ]
  },
  {
   "cell_type": "markdown",
   "id": "c2ad65ee",
   "metadata": {},
   "source": [
    "Ans.:-"
   ]
  },
  {
   "cell_type": "code",
   "execution_count": 17,
   "id": "85b64eaf",
   "metadata": {},
   "outputs": [
    {
     "name": "stdout",
     "output_type": "stream",
     "text": [
      "[1, 2, 3, 4, 5, 6, 7, 8, 9, 10, 11, 12, 13, 14, 15, 16, 17, 18, 19, 20, 21, 22, 23, 24, 25, 26, 27, 28, 29, 30, 31, 32, 33, 34, 35, 36, 37, 38, 39, 40, 41, 42, 43, 44, 45, 46, 47, 48, 49, 50, 51, 52, 53, 54, 55, 56, 57, 58, 59, 60, 61, 62, 63, 64, 65, 66, 67, 68, 69, 70, 71, 72, 73, 74, 75, 76, 77, 78, 79, 80, 81, 82, 83, 84, 85, 86, 87, 88, 89, 90, 91, 92, 93, 94, 95, 96, 97, 98, 99, 100]\n"
     ]
    }
   ],
   "source": [
    "numbers = [odd for odd in range(1,101)]\n",
    "\n",
    "print(numbers)"
   ]
  },
  {
   "cell_type": "code",
   "execution_count": 18,
   "id": "86d964ea",
   "metadata": {},
   "outputs": [
    {
     "name": "stdout",
     "output_type": "stream",
     "text": [
      "[1, 2, 3, 4, 5, 6, 7, 8, 9, 10, 11, 12, 13, 14, 15, 16, 17, 18, 19, 20, 21, 22, 23, 24, 25, 26, 27, 28, 29, 30, 31, 32, 33, 34, 35, 36, 37, 38, 39, 40, 41, 42, 43, 44, 45, 46, 47, 48, 49, 50, 51, 52, 53, 54, 55, 56, 57, 58, 59, 60, 61, 62, 63, 64, 65, 66, 67, 68, 69, 70, 71, 72, 73, 74, 75, 76, 77, 78, 79, 80, 81, 82, 83, 84, 85, 86, 87, 88, 89, 90, 91, 92, 93, 94, 95, 96, 97, 98, 99, 100]\n"
     ]
    }
   ],
   "source": [
    "numbers = [odd for odd in range(1,101) if i % 2 == 1]\n",
    "\n",
    "print(numbers)"
   ]
  }
 ],
 "metadata": {
  "kernelspec": {
   "display_name": "Python 3 (ipykernel)",
   "language": "python",
   "name": "python3"
  },
  "language_info": {
   "codemirror_mode": {
    "name": "ipython",
    "version": 3
   },
   "file_extension": ".py",
   "mimetype": "text/x-python",
   "name": "python",
   "nbconvert_exporter": "python",
   "pygments_lexer": "ipython3",
   "version": "3.10.9"
  }
 },
 "nbformat": 4,
 "nbformat_minor": 5
}
